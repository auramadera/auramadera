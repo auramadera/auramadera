{
  "nbformat": 4,
  "nbformat_minor": 0,
  "metadata": {
    "colab": {
      "provenance": [],
      "authorship_tag": "ABX9TyPjP8zu2a+uAUzDDExGoynU",
      "include_colab_link": true
    },
    "kernelspec": {
      "name": "python3",
      "display_name": "Python 3"
    },
    "language_info": {
      "name": "python"
    }
  },
  "cells": [
    {
      "cell_type": "markdown",
      "metadata": {
        "id": "view-in-github",
        "colab_type": "text"
      },
      "source": [
        "<a href=\"https://colab.research.google.com/github/auramadera/auramadera/blob/main/Ejemplo_NaiveBayes.ipynb\" target=\"_parent\"><img src=\"https://colab.research.google.com/assets/colab-badge.svg\" alt=\"Open In Colab\"/></a>"
      ]
    },
    {
      "cell_type": "code",
      "execution_count": 8,
      "metadata": {
        "colab": {
          "base_uri": "https://localhost:8080/"
        },
        "id": "9m72-bHZE0Cd",
        "outputId": "b6a65d5e-a91c-48fc-a46e-6d436a9868f5"
      },
      "outputs": [
        {
          "output_type": "stream",
          "name": "stdout",
          "text": [
            "1.0\n"
          ]
        }
      ],
      "source": [
        "## Algoritmo de Clasificación\n",
        "## Clasificación Naive Bayes\n",
        "\n",
        "\n",
        "#importar librerias\n",
        "import numpy as np\n",
        "import pandas as pd\n",
        "from sklearn.naive_bayes import GaussianNB\n",
        "from sklearn.model_selection import train_test_split\n",
        "from sklearn.metrics import accuracy_score\n",
        "\n",
        "#Cargar los datos\n",
        "data = pd.read_csv(\"/content/Iris.csv\")\n",
        "\n",
        "#Dividimos los datos en entrenamiento y prueba\n",
        "X_train, X_test, y_train, y_test = train_test_split(data.drop(\"Species\", axis=1), data[\"Species\"], test_size=0.25)\n",
        "\n",
        "#Creamos el modelo\n",
        "model = GaussianNB()\n",
        "\n",
        "#Entranamos el modelo\n",
        "model.fit(X_train, y_train)\n",
        "\n",
        "#Predecir los resultados\n",
        "y_pred = model.predict(X_test)\n",
        "\n",
        "#Evaluamos el modelo\n",
        "print(accuracy_score(y_test, y_pred))"
      ]
    }
  ]
}